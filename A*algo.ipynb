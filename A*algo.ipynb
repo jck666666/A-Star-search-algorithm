{
  "nbformat": 4,
  "nbformat_minor": 0,
  "metadata": {
    "colab": {
      "provenance": []
    },
    "kernelspec": {
      "name": "python3",
      "display_name": "Python 3"
    },
    "language_info": {
      "name": "python"
    }
  },
  "cells": [
    {
      "cell_type": "code",
      "source": [
        "import sys\n",
        "import numpy as np"
      ],
      "metadata": {
        "id": "ch1ela0p7UUt"
      },
      "execution_count": 8,
      "outputs": []
    },
    {
      "cell_type": "code",
      "source": [
        "class Point:\n",
        "  def __init__(self, x, y):\n",
        "      self.x = x\n",
        "      self.y = y\n",
        "      self.cost = sys.maxsize"
      ],
      "metadata": {
        "id": "Cw2NyohP7WZB"
      },
      "execution_count": 9,
      "outputs": []
    },
    {
      "cell_type": "code",
      "source": [
        "class Map:\n",
        "  def __init__(self, size=6, obstacle_num = 9, obstacle_list = [], start_point = Point(0,0), end_point = Point(2,5)):\n",
        "      self.size = size\n",
        "      self.obstacle_num = obstacle_num\n",
        "      self.obstacle_list = obstacle_list\n",
        "      self.start_point = start_point\n",
        "      self.end_point = end_point\n",
        "\n",
        "  def AddObstacle(self, p):\n",
        "    self.obstacle_list.append(p)\n",
        "\n",
        "  def IsObstacle (self, p):\n",
        "    for point in self.obstacle_list:\n",
        "      if p.x == point.x and p.y == point.y:\n",
        "        return True\n",
        "    return False\n",
        "\n",
        "  def IsStartPoint (self, p):\n",
        "    if p.x==self.start_point.x and p.y ==self.start_point.x:\n",
        "      return True\n",
        "    return False\n",
        "\n",
        "  def IsEndPoint (self, p):\n",
        "    if p.x==self.end_point.x and p.y==self.end_point.y:\n",
        "      return True\n",
        "    return False\n",
        "\n",
        "  def IsValidPoint(self, p):\n",
        "    if p.x < 0 or p.y < 0:\n",
        "      return False\n",
        "    if p.x >= self.size or p.y >= self.size:\n",
        "      return False\n",
        "    return not self.IsObstacle(p)"
      ],
      "metadata": {
        "id": "bsjDtMH47Xyd"
      },
      "execution_count": 10,
      "outputs": []
    },
    {
      "cell_type": "code",
      "source": [
        "def GCost(p): # Distance to start point\n",
        "    del_x = p.x - map.start_point.x \n",
        "    del_y = p.y - map.start_point.y\n",
        "    distance = np.sqrt(2) * min(del_x, del_y) + (max(del_x, del_y) - min (del_x, del_y))\n",
        "    return distance\n",
        "\n",
        "def HCost(p): # Distance to end point\n",
        "    del_x = abs(map.end_point.x - p.x) \n",
        "    del_y = abs(map.end_point.y - p.y)\n",
        "    distance = np.sqrt(np.square(del_x)+np.square(del_y))\n",
        "    return distance\n",
        "\n",
        "def FCost(p):\n",
        "    return GCost(p) + HCost(p)\n",
        "\n",
        "def SelectPointInOpenList():\n",
        "  index = 0\n",
        "  selected_index = -1\n",
        "  min_cost = sys.maxsize\n",
        "  for p in open_set:\n",
        "    cost = FCost(p)\n",
        "    if cost < min_cost:\n",
        "      min_cost = cost\n",
        "      selected_index = index\n",
        "    index += 1\n",
        "  if selected_index < 0:\n",
        "    print('No path found QQ')  \n",
        "  else: \n",
        "    return selected_index\n",
        "\n",
        "def BuildPath(p):\n",
        "  path = []\n",
        "  while True:\n",
        "    path.insert(0, p) # Insert at begining\n",
        "    if map.IsStartPoint(p):\n",
        "      break\n",
        "    else:\n",
        "      p = p.parent\n",
        "  return path \n",
        "\n",
        "def IsInPointList(p, point_list):\n",
        "  for point in point_list:\n",
        "    if point.x == p.x and point.y == p.y:\n",
        "      return True\n",
        "  return False\n",
        "\n",
        "def IsInOpenList(p, open_set):\n",
        "  return IsInPointList(p, open_set)\n",
        "\n",
        "def IsInCloseList(p, close_set):\n",
        "  return IsInPointList(p, close_set) \n",
        "\n",
        "def ProcessPoint(x, y, parent, open_set, close_set):\n",
        "  p = Point(x, y)\n",
        "  if not map.IsValidPoint(p):\n",
        "    return # Do nothing for invalid point    \n",
        "  if IsInCloseList(p, close_set):\n",
        "    return # Do nothing for visited point\n",
        "  if not IsInOpenList(p, open_set):\n",
        "    p.parent = parent\n",
        "    p.cost = FCost(p)\n",
        "    open_set.append(p)"
      ],
      "metadata": {
        "id": "jokUY96ttNa7"
      },
      "execution_count": 11,
      "outputs": []
    },
    {
      "cell_type": "code",
      "source": [
        "open_set=[]\n",
        "close_set=[]\n",
        "path = []\n",
        "\n",
        "start_point = Point(0, 0)\n",
        "end_point = Point(2,5)\n",
        "\n",
        "map = Map(6, 9, [], start_point, end_point)\n",
        "map.AddObstacle(Point(0,3))\n",
        "map.AddObstacle(Point(1,3))\n",
        "map.AddObstacle(Point(2,3))\n",
        "map.AddObstacle(Point(3,3))\n",
        "map.AddObstacle(Point(0,4))\n",
        "map.AddObstacle(Point(4,1))\n",
        "map.AddObstacle(Point(5,1))\n",
        "map.AddObstacle(Point(5,4))\n",
        "map.AddObstacle(Point(5,5))\n",
        "\n",
        "start_point.cost=FCost(start_point)\n",
        "\n",
        "print(len(map.obstacle_list))\n",
        "\n",
        "open_set.append(start_point)\n"
      ],
      "metadata": {
        "colab": {
          "base_uri": "https://localhost:8080/"
        },
        "id": "zvwyy_H6ONhf",
        "outputId": "c1d1bb06-65a1-4a91-9e4e-077c4ef53475"
      },
      "execution_count": 12,
      "outputs": [
        {
          "output_type": "stream",
          "name": "stdout",
          "text": [
            "9\n"
          ]
        }
      ]
    },
    {
      "cell_type": "code",
      "source": [
        "finished_flag = False\n",
        "\n",
        "while True:   \n",
        "  index = SelectPointInOpenList()\n",
        "  p=open_set[index]\n",
        "  if map.IsEndPoint(p):\n",
        "    path = BuildPath(p)\n",
        "    print('finished, path:')\n",
        "    for i in path:\n",
        "      print('(', i.x, ',', i.y, ')')\n",
        "    break\n",
        "\n",
        "  # Process all neighbors\n",
        "  x = p.x\n",
        "  y = p.y\n",
        "  ProcessPoint(x-1, y+1, p, open_set, close_set)\n",
        "  ProcessPoint(x-1, y, p, open_set, close_set)\n",
        "  ProcessPoint(x-1, y-1, p, open_set, close_set)\n",
        "  ProcessPoint(x, y-1, p, open_set, close_set)\n",
        "  ProcessPoint(x+1, y-1, p, open_set, close_set)\n",
        "  ProcessPoint(x+1, y, p, open_set, close_set)\n",
        "  ProcessPoint(x+1, y+1, p, open_set, close_set)  \n",
        "  ProcessPoint(x, y+1, p, open_set, close_set)\n",
        "\n",
        "  del open_set[index]\n",
        "  close_set.append(p)\n"
      ],
      "metadata": {
        "colab": {
          "base_uri": "https://localhost:8080/"
        },
        "id": "3K3H63tDHTr0",
        "outputId": "29707541-bc59-42bb-8ece-3d27db3bff2e"
      },
      "execution_count": 13,
      "outputs": [
        {
          "output_type": "stream",
          "name": "stdout",
          "text": [
            "finished, path:\n",
            "( 0 , 0 )\n",
            "( 1 , 1 )\n",
            "( 2 , 2 )\n",
            "( 3 , 2 )\n",
            "( 4 , 3 )\n",
            "( 3 , 4 )\n",
            "( 2 , 5 )\n"
          ]
        }
      ]
    }
  ]
}